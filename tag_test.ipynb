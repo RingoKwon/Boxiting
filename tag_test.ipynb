{
  "nbformat": 4,
  "nbformat_minor": 0,
  "metadata": {
    "colab": {
      "name": "tag_test.ipynb",
      "provenance": [],
      "authorship_tag": "ABX9TyN/WS/Zt/3Wqcf6PW1G3kg4",
      "include_colab_link": true
    },
    "kernelspec": {
      "name": "python3",
      "display_name": "Python 3"
    },
    "language_info": {
      "name": "python"
    }
  },
  "cells": [
    {
      "cell_type": "markdown",
      "metadata": {
        "id": "view-in-github",
        "colab_type": "text"
      },
      "source": [
        "<a href=\"https://colab.research.google.com/github/RingoKwon/Boxiting/blob/master/tag_test.ipynb\" target=\"_parent\"><img src=\"https://colab.research.google.com/assets/colab-badge.svg\" alt=\"Open In Colab\"/></a>"
      ]
    },
    {
      "cell_type": "markdown",
      "source": [
        "H1[link text](https://colab.research.google.com/drive/16Kzzc6Pu3aZFDtHM_4Be-VdKOkLqLbvn)\n",
        "\n",
        "[무엇? ](https://colab.research.google.com/drive/1zU1a5jRsMbAQJ4alPZRz1Cx2-qfSBcR2#scrollTo=dVzlG9s9fJTh&line=1&uniqifier=1)\n"
      ],
      "metadata": {
        "id": "oE_ElgkLfOIX"
      }
    },
    {
      "cell_type": "code",
      "execution_count": null,
      "metadata": {
        "id": "m0EbS0gBfC_P"
      },
      "outputs": [],
      "source": [
        "import numpy as np"
      ]
    },
    {
      "cell_type": "code",
      "source": [
        "x = 11\n",
        "\n",
        "# test \n"
      ],
      "metadata": {
        "id": "dVzlG9s9fJTh"
      },
      "execution_count": null,
      "outputs": []
    },
    {
      "cell_type": "code",
      "source": [
        "np.random.randn(20)"
      ],
      "metadata": {
        "id": "G_1R5S1if-q_",
        "colab": {
          "base_uri": "https://localhost:8080/"
        },
        "outputId": "66073864-3d37-4841-9940-a86d43d8ae23"
      },
      "execution_count": null,
      "outputs": [
        {
          "output_type": "execute_result",
          "data": {
            "text/plain": [
              "array([ 0.62079495,  0.93218273, -0.84078439,  0.11601607, -0.1013098 ,\n",
              "        0.60418847,  1.27708969, -1.26598888, -0.18148874, -1.05948258,\n",
              "       -0.91607787,  1.29087268, -1.90124549, -0.94744454, -0.05928098,\n",
              "       -0.12319846, -0.79910443,  0.08987807,  0.18819588, -1.94811832])"
            ]
          },
          "metadata": {},
          "execution_count": 6
        }
      ]
    },
    {
      "cell_type": "markdown",
      "source": [
        ""
      ],
      "metadata": {
        "id": "0WA3GozN1t26"
      }
    },
    {
      "cell_type": "code",
      "source": [
        ""
      ],
      "metadata": {
        "id": "I9L94FFI1vuJ"
      },
      "execution_count": null,
      "outputs": []
    }
  ]
}
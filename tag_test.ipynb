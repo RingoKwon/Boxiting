{
  "nbformat": 4,
  "nbformat_minor": 0,
  "metadata": {
    "colab": {
      "name": "tag_test.ipynb",
      "provenance": [],
      "authorship_tag": "ABX9TyNXBAwhRKzZlFKaVQm9AXSX",
      "include_colab_link": true
    },
    "kernelspec": {
      "name": "python3",
      "display_name": "Python 3"
    },
    "language_info": {
      "name": "python"
    }
  },
  "cells": [
    {
      "cell_type": "markdown",
      "metadata": {
        "id": "view-in-github",
        "colab_type": "text"
      },
      "source": [
        "<a href=\"https://colab.research.google.com/github/RingoKwon/Boxiting/blob/master/tag_test.ipynb\" target=\"_parent\"><img src=\"https://colab.research.google.com/assets/colab-badge.svg\" alt=\"Open In Colab\"/></a>"
      ]
    },
    {
      "cell_type": "markdown",
      "source": [
        "H1[link text](https://colab.research.google.com/drive/16Kzzc6Pu3aZFDtHM_4Be-VdKOkLqLbvn)\n",
        "\n",
        "[무엇? ](https://colab.research.google.com/drive/1zU1a5jRsMbAQJ4alPZRz1Cx2-qfSBcR2#scrollTo=dVzlG9s9fJTh&line=1&uniqifier=1)\n"
      ],
      "metadata": {
        "id": "oE_ElgkLfOIX"
      }
    },
    {
      "cell_type": "code",
      "execution_count": null,
      "metadata": {
        "id": "m0EbS0gBfC_P"
      },
      "outputs": [],
      "source": [
        "import numpy as np"
      ]
    },
    {
      "cell_type": "code",
      "source": [
        "x = 11"
      ],
      "metadata": {
        "id": "dVzlG9s9fJTh"
      },
      "execution_count": null,
      "outputs": []
    },
    {
      "cell_type": "code",
      "source": [
        ""
      ],
      "metadata": {
        "id": "G_1R5S1if-q_"
      },
      "execution_count": null,
      "outputs": []
    },
    {
      "cell_type": "markdown",
      "source": [
        ""
      ],
      "metadata": {
        "id": "0WA3GozN1t26"
      }
    },
    {
      "cell_type": "code",
      "source": [
        ""
      ],
      "metadata": {
        "id": "I9L94FFI1vuJ"
      },
      "execution_count": null,
      "outputs": []
    }
  ]
}